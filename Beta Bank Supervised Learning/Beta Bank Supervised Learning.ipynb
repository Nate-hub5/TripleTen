{
 "cells": [
  {
   "cell_type": "markdown",
   "metadata": {},
   "source": [
    "***Supervised Learning Project***\n",
    "\n",
    "We face an issue with customers leaving little by little at Beta Bank. We'd like to keep the current customers instead of finding new ones. We need to predict whether a customer will leave the bank with the data on each clients' past behavior.\n",
    "\n",
    "1. Build a model with the maximum possible F1 score with an F1 score 59.0 or higher on the test set. \n",
    "2. Measuring the AUC-ROC metric and comparing it with the F1.\n",
    "\n",
    "\n",
    "\n",
    "**Column Names**\n",
    "1. RowNumber — data string index\n",
    "2. CustomerId — unique customer identifier\n",
    "3. Surname — surname\n",
    "4. CreditScore — credit score\n",
    "5. Geography — country of residence\n",
    "6. Gender — gender\n",
    "7. Age — age\n",
    "8. Tenure — period of maturation for a customer’s fixed deposit (years)\n",
    "9. Balance — account balance\n",
    "10. NumOfProducts — number of banking products used by the customer\n",
    "11. HasCrCard — customer has a credit card\n",
    "12. IsActiveMember — customer’s activeness\n",
    "13. EstimatedSalary — estimated salary\n",
    "14. Exited — сustomer has left\n",
    "\n"
   ]
  },
  {
   "cell_type": "code",
   "execution_count": 1,
   "metadata": {},
   "outputs": [],
   "source": [
    "import pandas as pd\n",
    "import numpy as np\n",
    "from sklearn.ensemble import RandomForestClassifier\n",
    "from sklearn.metrics import classification_report, roc_auc_score, roc_curve, auc, precision_recall_curve, f1_score\n",
    "from sklearn.model_selection import train_test_split, GridSearchCV\n",
    "from sklearn.utils.class_weight import compute_class_weight\n",
    "from sklearn.utils import resample\n",
    "import matplotlib.pyplot as plt"
   ]
  },
  {
   "cell_type": "code",
   "execution_count": 2,
   "metadata": {},
   "outputs": [],
   "source": [
    "#Reading dataframe\n",
    "df = pd.read_csv('/datasets/Churn.csv')"
   ]
  },
  {
   "cell_type": "code",
   "execution_count": 3,
   "metadata": {},
   "outputs": [
    {
     "name": "stdout",
     "output_type": "stream",
     "text": [
      "      RowNumber  CustomerId    Surname  CreditScore Geography  Gender  Age  \\\n",
      "9995       9996    15606229   Obijiaku          771    France    Male   39   \n",
      "9996       9997    15569892  Johnstone          516    France    Male   35   \n",
      "9997       9998    15584532        Liu          709    France  Female   36   \n",
      "9998       9999    15682355  Sabbatini          772   Germany    Male   42   \n",
      "9999      10000    15628319     Walker          792    France  Female   28   \n",
      "\n",
      "      Tenure    Balance  NumOfProducts  HasCrCard  IsActiveMember  \\\n",
      "9995     5.0       0.00              2          1               0   \n",
      "9996    10.0   57369.61              1          1               1   \n",
      "9997     7.0       0.00              1          0               1   \n",
      "9998     3.0   75075.31              2          1               0   \n",
      "9999     NaN  130142.79              1          1               0   \n",
      "\n",
      "      EstimatedSalary  Exited  \n",
      "9995         96270.64       0  \n",
      "9996        101699.77       0  \n",
      "9997         42085.58       1  \n",
      "9998         92888.52       1  \n",
      "9999         38190.78       0  \n"
     ]
    }
   ],
   "source": [
    "#Printing the last 20 records\n",
    "print(df.tail(5))"
   ]
  },
  {
   "cell_type": "code",
   "execution_count": 4,
   "metadata": {},
   "outputs": [
    {
     "name": "stdout",
     "output_type": "stream",
     "text": [
      "<class 'pandas.core.frame.DataFrame'>\n",
      "RangeIndex: 10000 entries, 0 to 9999\n",
      "Data columns (total 14 columns):\n",
      " #   Column           Non-Null Count  Dtype  \n",
      "---  ------           --------------  -----  \n",
      " 0   RowNumber        10000 non-null  int64  \n",
      " 1   CustomerId       10000 non-null  int64  \n",
      " 2   Surname          10000 non-null  object \n",
      " 3   CreditScore      10000 non-null  int64  \n",
      " 4   Geography        10000 non-null  object \n",
      " 5   Gender           10000 non-null  object \n",
      " 6   Age              10000 non-null  int64  \n",
      " 7   Tenure           9091 non-null   float64\n",
      " 8   Balance          10000 non-null  float64\n",
      " 9   NumOfProducts    10000 non-null  int64  \n",
      " 10  HasCrCard        10000 non-null  int64  \n",
      " 11  IsActiveMember   10000 non-null  int64  \n",
      " 12  EstimatedSalary  10000 non-null  float64\n",
      " 13  Exited           10000 non-null  int64  \n",
      "dtypes: float64(3), int64(8), object(3)\n",
      "memory usage: 1.1+ MB\n",
      "None\n",
      "\n",
      "Tenure has some missing values.\n"
     ]
    }
   ],
   "source": [
    "#Looking at column name, data types, and missing records\n",
    "print(df.info())\n",
    "print()\n",
    "print('Tenure has some missing values.')"
   ]
  },
  {
   "cell_type": "code",
   "execution_count": 5,
   "metadata": {},
   "outputs": [],
   "source": [
    "#One-Hot-Encoding to add a numerical value to both columns\n",
    "data = pd.get_dummies(df, columns=['Geography', 'Gender'])"
   ]
  },
  {
   "cell_type": "code",
   "execution_count": 6,
   "metadata": {},
   "outputs": [],
   "source": [
    "#Removing some columns that wont add any usefulness to our predictions and models\n",
    "data = data.drop(['RowNumber', 'CustomerId', 'Surname'], axis = 1)"
   ]
  },
  {
   "cell_type": "code",
   "execution_count": 7,
   "metadata": {},
   "outputs": [
    {
     "name": "stdout",
     "output_type": "stream",
     "text": [
      "Customers with no loans: 909\n"
     ]
    }
   ],
   "source": [
    "#Customers without a fixed deposit resulting in no tenure\n",
    "no_loan = data['Tenure'].isnull().sum()\n",
    "\n",
    "#Print the count of missing values\n",
    "print(f'Customers with no loans: {no_loan}')\n",
    "\n",
    "data['Tenure'].fillna(0,inplace=True)"
   ]
  },
  {
   "cell_type": "code",
   "execution_count": 8,
   "metadata": {},
   "outputs": [
    {
     "name": "stdout",
     "output_type": "stream",
     "text": [
      "   CreditScore  Age  Tenure    Balance  NumOfProducts  HasCrCard  \\\n",
      "0          619   42     2.0       0.00              1          1   \n",
      "1          608   41     1.0   83807.86              1          0   \n",
      "2          502   42     8.0  159660.80              3          1   \n",
      "3          699   39     1.0       0.00              2          0   \n",
      "4          850   43     2.0  125510.82              1          1   \n",
      "\n",
      "   IsActiveMember  EstimatedSalary  Exited  Geography_France  \\\n",
      "0               1        101348.88       1                 1   \n",
      "1               1        112542.58       0                 0   \n",
      "2               0        113931.57       1                 1   \n",
      "3               0         93826.63       0                 1   \n",
      "4               1         79084.10       0                 0   \n",
      "\n",
      "   Geography_Germany  Geography_Spain  Gender_Female  Gender_Male  \n",
      "0                  0                0              1            0  \n",
      "1                  0                1              1            0  \n",
      "2                  0                0              1            0  \n",
      "3                  0                0              1            0  \n",
      "4                  0                1              1            0  \n",
      "<class 'pandas.core.frame.DataFrame'>\n",
      "RangeIndex: 10000 entries, 0 to 9999\n",
      "Data columns (total 14 columns):\n",
      " #   Column             Non-Null Count  Dtype  \n",
      "---  ------             --------------  -----  \n",
      " 0   CreditScore        10000 non-null  int64  \n",
      " 1   Age                10000 non-null  int64  \n",
      " 2   Tenure             10000 non-null  float64\n",
      " 3   Balance            10000 non-null  float64\n",
      " 4   NumOfProducts      10000 non-null  int64  \n",
      " 5   HasCrCard          10000 non-null  int64  \n",
      " 6   IsActiveMember     10000 non-null  int64  \n",
      " 7   EstimatedSalary    10000 non-null  float64\n",
      " 8   Exited             10000 non-null  int64  \n",
      " 9   Geography_France   10000 non-null  uint8  \n",
      " 10  Geography_Germany  10000 non-null  uint8  \n",
      " 11  Geography_Spain    10000 non-null  uint8  \n",
      " 12  Gender_Female      10000 non-null  uint8  \n",
      " 13  Gender_Male        10000 non-null  uint8  \n",
      "dtypes: float64(3), int64(6), uint8(5)\n",
      "memory usage: 752.1 KB\n",
      "None\n"
     ]
    }
   ],
   "source": [
    "print(data.head())\n",
    "print(data.info())"
   ]
  },
  {
   "cell_type": "markdown",
   "metadata": {},
   "source": [
    "***Conclusion***\n",
    "\n",
    "Prepared the data set with cleaning up missing values, changing both Geography / Gender to numeric values, and dropping columns that wont help during models / testing. \n",
    "\n",
    "After running the data.info we are seeing a new data type 'unit8' (unsigned interger 0-255)"
   ]
  },
  {
   "cell_type": "code",
   "execution_count": 9,
   "metadata": {},
   "outputs": [],
   "source": [
    "#Feature and Target\n",
    "feature = data.drop(['Exited'], axis=1)\n",
    "target = data['Exited']"
   ]
  },
  {
   "cell_type": "code",
   "execution_count": 10,
   "metadata": {},
   "outputs": [
    {
     "name": "stdout",
     "output_type": "stream",
     "text": [
      "Class balance:\n",
      " 0    7963\n",
      "1    2037\n",
      "Name: Exited, dtype: int64\n",
      "\n",
      "Class distribution (percentage):\n",
      " 0    79.63\n",
      "1    20.37\n",
      "Name: Exited, dtype: float64\n"
     ]
    }
   ],
   "source": [
    "#Checking Class Balance\n",
    "class_balance = target.value_counts()\n",
    "print(\"Class balance:\\n\", class_balance)\n",
    "print(\"\\nClass distribution (percentage):\\n\", (class_balance / class_balance.sum()) * 100)"
   ]
  },
  {
   "cell_type": "code",
   "execution_count": 11,
   "metadata": {},
   "outputs": [
    {
     "name": "stdout",
     "output_type": "stream",
     "text": [
      "Classification Report:\n",
      "              precision    recall  f1-score   support\n",
      "\n",
      "           0       0.88      0.97      0.92      2416\n",
      "           1       0.78      0.46      0.58       584\n",
      "\n",
      "    accuracy                           0.87      3000\n",
      "   macro avg       0.83      0.71      0.75      3000\n",
      "weighted avg       0.86      0.87      0.85      3000\n",
      "\n",
      "AUC-ROC: 0.8528509990474464\n",
      "\n",
      "F1 Score: 0.5754310344827586\n"
     ]
    }
   ],
   "source": [
    "#Spilting the data into a train and test feature\n",
    "feature_train, feature_test, target_train, target_test = train_test_split(feature, target, test_size=0.3, random_state=42)\n",
    "\n",
    "#Define Model\n",
    "model = RandomForestClassifier(random_state=42)\n",
    "model.fit(feature_train, target_train)\n",
    "\n",
    "target_prob = model.predict_proba(feature_test)[:, 1]\n",
    "target_pred = model.predict(feature_test)\n",
    "\n",
    "print('Classification Report:')\n",
    "print(classification_report(target_test, target_pred))\n",
    "print('AUC-ROC:', roc_auc_score(target_test, target_prob))\n",
    "\n",
    "print()\n",
    "print('F1 Score:', f1_score(target_test, target_pred))\n",
    " "
   ]
  },
  {
   "cell_type": "code",
   "execution_count": 12,
   "metadata": {},
   "outputs": [
    {
     "name": "stdout",
     "output_type": "stream",
     "text": [
      "Class Weights: {1: 2.454590083456063, 0: 0.6279040562602034}\n"
     ]
    }
   ],
   "source": [
    "#Class Weights\n",
    "class_weights = compute_class_weight('balanced', classes=target.unique(), y=target)\n",
    "class_weights_dict = dict(zip(target.unique(), class_weights))\n",
    "print(f'Class Weights: {class_weights_dict}')"
   ]
  },
  {
   "cell_type": "markdown",
   "metadata": {},
   "source": [
    "***Conclusion***\n",
    "\n",
    "First we set the features and target to the respected columns. After doing that we checked the class balance of the target. We find that we have way more (0 no) than we do (1 yes). Then we spilt the data set into the a train / test set. Left out the valid set becuase we will do that in our GridSearch module. From there we used a random forest classifier and fit our model with both of the train features and target. \n",
    "\n",
    "***Results***\n",
    "\n",
    "After calling the classification report and Roc_auc_score:\n",
    "\n",
    "Precision: For 0's we had 0.88 precision and for the 1's we had 0.78 precision\n",
    "\n",
    "Recall: For 0's we had a recall score of .97 but for the 1's we had 0.46 recall score meaning the model struggles with findings the 1's.\n",
    "\n",
    "F1-Score: For 0's we had a f1-score of 0.92 but for the 1's we had a 0.58 f1-score because this is the minority class. \n"
   ]
  },
  {
   "cell_type": "code",
   "execution_count": 13,
   "metadata": {},
   "outputs": [
    {
     "name": "stdout",
     "output_type": "stream",
     "text": [
      "Classification Report with Grid Search and Resampling:\n",
      "              precision    recall  f1-score   support\n",
      "\n",
      "           0       0.89      0.94      0.91      2416\n",
      "           1       0.67      0.54      0.60       584\n",
      "\n",
      "    accuracy                           0.86      3000\n",
      "   macro avg       0.78      0.74      0.75      3000\n",
      "weighted avg       0.85      0.86      0.85      3000\n",
      "\n",
      "AUC-ROC with Grid Search and Resampling: 0.8436401444706523\n",
      "F1-Score:  0.5950570342205322\n"
     ]
    },
    {
     "data": {
      "image/png": "[encoded data removed]",
      "text/plain": [
       "<Figure size 640x480 with 1 Axes>"
      ]
     },
     "metadata": {},
     "output_type": "display_data"
    },
    {
     "data": {
      "image/png": "[encoded data removed]",
      "text/plain": [
       "<Figure size 640x480 with 1 Axes>"
      ]
     },
     "metadata": {},
     "output_type": "display_data"
    }
   ],
   "source": [
    "data_combined = pd.concat([feature_train, target_train], axis=1)\n",
    "\n",
    "#Separate majority and minority classes\n",
    "majority_class = data_combined[data_combined['Exited'] == 0]\n",
    "minority_class = data_combined[data_combined['Exited'] == 1]\n",
    "\n",
    "#Oversample minority class\n",
    "minority_oversampled = resample(minority_class,\n",
    "                                replace=True, \n",
    "                                n_samples=len(majority_class),  \n",
    "                                random_state=42)  \n",
    "\n",
    "#Combine majority class with oversampled minority class\n",
    "data_oversampled = pd.concat([majority_class, minority_oversampled])\n",
    "\n",
    "#Separate features and target for the oversampled data\n",
    "feature_train_oversampled = data_oversampled.drop('Exited', axis=1)\n",
    "target_train_oversampled = data_oversampled['Exited']\n",
    "\n",
    "#Define the model for resampled data\n",
    "model_resampled = RandomForestClassifier(random_state=42)\n",
    "\n",
    "#Grid search parameter grid\n",
    "param_grid_resampled = {\n",
    "    'n_estimators': [50, 100, 200],\n",
    "    'max_depth': [None, 10, 20, 30],\n",
    "    'min_samples_split': [2, 5, 10],\n",
    "    'min_samples_leaf': [1, 2, 4]\n",
    "}\n",
    "\n",
    "#Grid search with cross-validation on resampled data\n",
    "grid_search_resampled = GridSearchCV(estimator=model_resampled, param_grid=param_grid_resampled, cv=5, scoring='f1', n_jobs=-1, verbose=0)\n",
    "grid_search_resampled.fit(feature_train_oversampled, target_train_oversampled)\n",
    "\n",
    "#Best model from grid search on resampled data\n",
    "best_model_resampled = grid_search_resampled.best_estimator_\n",
    "\n",
    "#Predictions and performance evaluation\n",
    "target_prob_resampling = best_model_resampled.predict_proba(feature_test)[:, 1]\n",
    "target_pred_resampling = best_model_resampled.predict(feature_test)\n",
    "\n",
    "print('Classification Report with Grid Search and Resampling:')\n",
    "print(classification_report(target_test, target_pred_resampling))\n",
    "print('AUC-ROC with Grid Search and Resampling:', roc_auc_score(target_test, target_prob_resampling))\n",
    "\n",
    "print('F1-Score: ', f1_score(target_test, target_pred_resampling))\n",
    "\n",
    "#ROC Curve\n",
    "fpr_resampling, tpr_resampling, _ = roc_curve(target_test, target_prob_resampling)\n",
    "roc_auc_resampling = auc(fpr_resampling, tpr_resampling)\n",
    "\n",
    "plt.figure()\n",
    "plt.plot(fpr_resampling, tpr_resampling, color='darkorange', lw=2, label=f'ROC curve (area = {roc_auc_resampling:.2f}) with Resampling')\n",
    "plt.plot([0, 1], [0, 1], color='navy', lw=2, linestyle='--')\n",
    "plt.xlim([0.0, 1.0])\n",
    "plt.ylim([0.0, 1.05])\n",
    "plt.xlabel('False Positive Rate')\n",
    "plt.ylabel('True Positive Rate')\n",
    "plt.title('Receiver Operating Characteristic (ROC) with Resampling')\n",
    "plt.legend(loc='lower right')\n",
    "plt.show()\n",
    "\n",
    "#PR Curve\n",
    "precision_resampling, recall_resampling, _ = precision_recall_curve(target_test, target_prob_resampling)\n",
    "pr_auc_resampling = auc(recall_resampling, precision_resampling)\n",
    "\n",
    "plt.figure()\n",
    "plt.plot(recall_resampling, precision_resampling, color='blue', lw=2, label=f'PR curve (area = {pr_auc_resampling:.2f}) with Resampling')\n",
    "plt.xlabel('Recall')\n",
    "plt.ylabel('Precision')\n",
    "plt.title('Precision-Recall curve with Resampling')\n",
    "plt.legend(loc='lower left')\n",
    "plt.show()\n",
    "\n",
    "\n"
   ]
  },
  {
   "cell_type": "code",
   "execution_count": 14,
   "metadata": {},
   "outputs": [
    {
     "name": "stdout",
     "output_type": "stream",
     "text": [
      "Optimal threshold: 0.27\n",
      "Classification Report with Threshold Adjustment:\n",
      "              precision    recall  f1-score   support\n",
      "\n",
      "           0       0.92      0.84      0.88      2416\n",
      "           1       0.51      0.71      0.59       584\n",
      "\n",
      "    accuracy                           0.81      3000\n",
      "   macro avg       0.72      0.77      0.73      3000\n",
      "weighted avg       0.84      0.81      0.82      3000\n",
      "\n",
      "AUC-ROC with Threshold Adjustment: 0.8528509990474464\n",
      "\n",
      "F1-Score:  0.5911047345767575\n"
     ]
    },
    {
     "data": {
      "image/png": "[encoded data removed]",
      "text/plain": [
       "<Figure size 640x480 with 1 Axes>"
      ]
     },
     "metadata": {},
     "output_type": "display_data"
    },
    {
     "data": {
      "image/png": "[encoded data removed]",
      "text/plain": [
       "<Figure size 640x480 with 1 Axes>"
      ]
     },
     "metadata": {},
     "output_type": "display_data"
    }
   ],
   "source": [
    "#Define and fit model on original (non-resampled) data\n",
    "model_threshold_adjustment = RandomForestClassifier(random_state=42)\n",
    "model_threshold_adjustment.fit(feature_train, target_train)\n",
    "\n",
    "#Predictions and performance evaluation\n",
    "target_prob_threshold = model_threshold_adjustment.predict_proba(feature_test)[:, 1]\n",
    "\n",
    "#Find the best threshold using ROC curve\n",
    "fpr, tpr, thresholds = roc_curve(target_test, target_prob_threshold)\n",
    "optimal_idx = np.argmax(tpr - fpr)\n",
    "optimal_threshold = thresholds[optimal_idx]\n",
    "\n",
    "print(f'Optimal threshold: {optimal_threshold:.2f}')\n",
    "\n",
    "#Predict using the optimal threshold\n",
    "target_pred_threshold = (target_prob_threshold >= optimal_threshold).astype(int)\n",
    "\n",
    "print('Classification Report with Threshold Adjustment:')\n",
    "print(classification_report(target_test, target_pred_threshold))\n",
    "print('AUC-ROC with Threshold Adjustment:', roc_auc_score(target_test, target_prob_threshold))\n",
    "\n",
    "print()\n",
    "print('F1-Score: ',f1_score(target_test, target_pred_threshold))\n",
    "\n",
    "#ROC Curve for threshold adjustment\n",
    "fpr_threshold, tpr_threshold, _ = roc_curve(target_test, target_prob_threshold)\n",
    "roc_auc_threshold = auc(fpr_threshold, tpr_threshold)\n",
    "\n",
    "plt.figure()\n",
    "plt.plot(fpr_threshold, tpr_threshold, color='darkorange', lw=2, label=f'ROC curve (area = {roc_auc_threshold:.2f}) with Threshold Adjustment')\n",
    "plt.plot([0, 1], [0, 1], color='navy', lw=2, linestyle='--')\n",
    "plt.xlim([0.0, 1.0])\n",
    "plt.ylim([0.0, 1.05])\n",
    "plt.xlabel('False Positive Rate')\n",
    "plt.ylabel('True Positive Rate')\n",
    "plt.title('Receiver Operating Characteristic (ROC) with Threshold Adjustment')\n",
    "plt.legend(loc='lower right')\n",
    "plt.show()\n",
    "\n",
    "#PR Curve for threshold adjustment\n",
    "precision_threshold, recall_threshold, _ = precision_recall_curve(target_test, target_prob_threshold)\n",
    "pr_auc_threshold = auc(recall_threshold, precision_threshold)\n",
    "\n",
    "plt.figure()\n",
    "plt.plot(recall_threshold, precision_threshold, color='blue', lw=2, label=f'PR curve (area = {pr_auc_threshold:.2f}) with Threshold Adjustment')\n",
    "plt.xlabel('Recall')\n",
    "plt.ylabel('Precision')\n",
    "plt.title('Precision-Recall curve with Threshold Adjustment')\n",
    "plt.legend(loc='lower left')\n",
    "plt.show()"
   ]
  },
  {
   "cell_type": "markdown",
   "metadata": {},
   "source": [
    "***Conclusion***\n",
    "\n",
    "First we seperated the minority and majority to allow us to oversample the minority class. Then we combine both classes back together. Like before we seperate the features / target and define the model. Set the Grid search to find the best model. Then make your predictions on the target! \n",
    "\n",
    "***Final Conslusion Results:***\n",
    "\n",
    "Precision: For 0's we had 0.92 precision and for the 1's we had 0.51 precision\n",
    "\n",
    "Recall: For 0's we had a recall score of .84 but for the 1's we had 0.71 recall score meaning the model struggles with findings the 1's.\n",
    "\n",
    "F1-Score: For 0's we had a f1-score of 0.88 but for the 1's we had a 0.59 f1-score because this is the minority class. \n",
    " \n",
    "\n",
    "With the F1-Score Module we have a f1-score of .591(threshold adjustment) and .595(Oversample)\n"
   ]
  },
  {
   "cell_type": "code",
   "execution_count": null,
   "metadata": {},
   "outputs": [],
   "source": []
  }
 ],
 "metadata": {
  "ExecuteTimeLog": [
   {
    "duration": 301,
    "start_time": "2024-08-27T23:48:00.584Z"
   },
   {
    "duration": 27,
    "start_time": "2024-08-27T23:48:17.145Z"
   },
   {
    "duration": 10,
    "start_time": "2024-08-27T23:48:28.421Z"
   },
   {
    "duration": 11,
    "start_time": "2024-08-28T00:02:00.085Z"
   },
   {
    "duration": 278,
    "start_time": "2024-08-28T21:20:50.011Z"
   },
   {
    "duration": 30,
    "start_time": "2024-08-28T21:20:50.292Z"
   },
   {
    "duration": 9,
    "start_time": "2024-08-28T21:20:50.324Z"
   },
   {
    "duration": 11,
    "start_time": "2024-08-28T21:20:50.335Z"
   },
   {
    "duration": 5,
    "start_time": "2024-08-28T21:20:50.347Z"
   },
   {
    "duration": 4,
    "start_time": "2024-08-28T21:28:09.460Z"
   },
   {
    "duration": 4,
    "start_time": "2024-08-28T21:48:46.842Z"
   },
   {
    "duration": 4,
    "start_time": "2024-08-28T21:48:51.846Z"
   },
   {
    "duration": 7,
    "start_time": "2024-08-28T21:49:12.382Z"
   },
   {
    "duration": 171,
    "start_time": "2024-08-29T21:07:35.455Z"
   },
   {
    "duration": 302,
    "start_time": "2024-08-29T21:07:42.576Z"
   },
   {
    "duration": 26,
    "start_time": "2024-08-29T21:07:42.879Z"
   },
   {
    "duration": 9,
    "start_time": "2024-08-29T21:07:42.907Z"
   },
   {
    "duration": 14,
    "start_time": "2024-08-29T21:07:42.918Z"
   },
   {
    "duration": 3,
    "start_time": "2024-08-29T21:07:42.934Z"
   },
   {
    "duration": 6,
    "start_time": "2024-08-29T21:14:02.634Z"
   },
   {
    "duration": 3,
    "start_time": "2024-08-29T21:14:15.864Z"
   },
   {
    "duration": 178,
    "start_time": "2024-08-29T21:14:28.076Z"
   },
   {
    "duration": 299,
    "start_time": "2024-08-29T21:14:39.500Z"
   },
   {
    "duration": 16,
    "start_time": "2024-08-29T21:14:39.801Z"
   },
   {
    "duration": 22,
    "start_time": "2024-08-29T21:14:39.818Z"
   },
   {
    "duration": 12,
    "start_time": "2024-08-29T21:14:39.842Z"
   },
   {
    "duration": 189,
    "start_time": "2024-08-29T21:14:39.856Z"
   },
   {
    "duration": 7,
    "start_time": "2024-08-29T21:15:48.945Z"
   },
   {
    "duration": 7,
    "start_time": "2024-08-29T21:24:58.684Z"
   },
   {
    "duration": 6,
    "start_time": "2024-08-29T21:26:40.117Z"
   },
   {
    "duration": 189,
    "start_time": "2024-08-29T21:27:33.402Z"
   },
   {
    "duration": 14,
    "start_time": "2024-08-29T21:27:41.552Z"
   },
   {
    "duration": 364,
    "start_time": "2024-08-29T21:27:58.795Z"
   },
   {
    "duration": 24,
    "start_time": "2024-08-29T21:27:59.162Z"
   },
   {
    "duration": 12,
    "start_time": "2024-08-29T21:27:59.188Z"
   },
   {
    "duration": 11,
    "start_time": "2024-08-29T21:27:59.201Z"
   },
   {
    "duration": 7,
    "start_time": "2024-08-29T21:27:59.236Z"
   },
   {
    "duration": 18,
    "start_time": "2024-08-29T21:27:59.245Z"
   },
   {
    "duration": 7,
    "start_time": "2024-08-29T21:27:59.270Z"
   },
   {
    "duration": 3,
    "start_time": "2024-08-29T21:27:59.279Z"
   },
   {
    "duration": 7,
    "start_time": "2024-08-29T21:27:59.284Z"
   },
   {
    "duration": 7,
    "start_time": "2024-08-29T21:28:09.415Z"
   },
   {
    "duration": 322,
    "start_time": "2024-08-29T21:29:28.085Z"
   },
   {
    "duration": 14,
    "start_time": "2024-08-29T21:29:28.410Z"
   },
   {
    "duration": 15,
    "start_time": "2024-08-29T21:29:28.426Z"
   },
   {
    "duration": 17,
    "start_time": "2024-08-29T21:29:28.444Z"
   },
   {
    "duration": 5,
    "start_time": "2024-08-29T21:29:28.467Z"
   },
   {
    "duration": 7,
    "start_time": "2024-08-29T21:29:28.475Z"
   },
   {
    "duration": 6,
    "start_time": "2024-08-29T21:29:28.484Z"
   },
   {
    "duration": 11,
    "start_time": "2024-08-29T21:30:35.304Z"
   },
   {
    "duration": 7,
    "start_time": "2024-08-29T21:30:40.161Z"
   },
   {
    "duration": 9,
    "start_time": "2024-08-29T21:31:15.656Z"
   },
   {
    "duration": 10,
    "start_time": "2024-08-29T21:31:17.551Z"
   },
   {
    "duration": 14,
    "start_time": "2024-08-29T21:31:34.091Z"
   },
   {
    "duration": 269,
    "start_time": "2024-08-29T21:38:02.408Z"
   },
   {
    "duration": 374,
    "start_time": "2024-08-29T21:38:56.224Z"
   },
   {
    "duration": 15,
    "start_time": "2024-08-29T21:38:56.601Z"
   },
   {
    "duration": 23,
    "start_time": "2024-08-29T21:38:56.618Z"
   },
   {
    "duration": 16,
    "start_time": "2024-08-29T21:38:56.647Z"
   },
   {
    "duration": 4,
    "start_time": "2024-08-29T21:38:56.666Z"
   },
   {
    "duration": 13,
    "start_time": "2024-08-29T21:38:56.675Z"
   },
   {
    "duration": 14,
    "start_time": "2024-08-29T21:38:56.690Z"
   },
   {
    "duration": 24,
    "start_time": "2024-08-29T21:38:56.707Z"
   },
   {
    "duration": 20,
    "start_time": "2024-08-29T21:38:56.733Z"
   },
   {
    "duration": 3,
    "start_time": "2024-08-29T21:41:42.556Z"
   },
   {
    "duration": 966,
    "start_time": "2024-08-29T21:42:00.925Z"
   },
   {
    "duration": 307,
    "start_time": "2024-08-29T21:42:14.193Z"
   },
   {
    "duration": 15,
    "start_time": "2024-08-29T21:42:14.502Z"
   },
   {
    "duration": 29,
    "start_time": "2024-08-29T21:42:14.518Z"
   },
   {
    "duration": 13,
    "start_time": "2024-08-29T21:42:14.556Z"
   },
   {
    "duration": 15,
    "start_time": "2024-08-29T21:42:14.571Z"
   },
   {
    "duration": 13,
    "start_time": "2024-08-29T21:42:14.587Z"
   },
   {
    "duration": 5,
    "start_time": "2024-08-29T21:42:14.601Z"
   },
   {
    "duration": 11,
    "start_time": "2024-08-29T21:42:14.608Z"
   },
   {
    "duration": 1007,
    "start_time": "2024-08-29T21:42:22.653Z"
   },
   {
    "duration": 6,
    "start_time": "2024-08-29T21:43:05.180Z"
   },
   {
    "duration": 10,
    "start_time": "2024-08-29T21:43:15.654Z"
   },
   {
    "duration": 6,
    "start_time": "2024-08-29T21:43:40.260Z"
   },
   {
    "duration": 317,
    "start_time": "2024-08-29T21:43:51.009Z"
   },
   {
    "duration": 28,
    "start_time": "2024-08-29T21:43:51.328Z"
   },
   {
    "duration": 10,
    "start_time": "2024-08-29T21:43:51.362Z"
   },
   {
    "duration": 12,
    "start_time": "2024-08-29T21:43:51.374Z"
   },
   {
    "duration": 8,
    "start_time": "2024-08-29T21:43:51.389Z"
   },
   {
    "duration": 5,
    "start_time": "2024-08-29T21:43:51.399Z"
   },
   {
    "duration": 28,
    "start_time": "2024-08-29T21:43:51.406Z"
   },
   {
    "duration": 20,
    "start_time": "2024-08-29T21:43:51.441Z"
   },
   {
    "duration": 3,
    "start_time": "2024-08-29T21:46:17.711Z"
   },
   {
    "duration": 4,
    "start_time": "2024-08-29T21:47:56.789Z"
   },
   {
    "duration": 11,
    "start_time": "2024-08-29T21:48:16.876Z"
   },
   {
    "duration": 174,
    "start_time": "2024-08-30T06:36:05.955Z"
   },
   {
    "duration": 286,
    "start_time": "2024-08-30T06:36:13.621Z"
   },
   {
    "duration": 27,
    "start_time": "2024-08-30T06:36:13.909Z"
   },
   {
    "duration": 8,
    "start_time": "2024-08-30T06:36:13.937Z"
   },
   {
    "duration": 11,
    "start_time": "2024-08-30T06:36:13.946Z"
   },
   {
    "duration": 13,
    "start_time": "2024-08-30T06:36:13.959Z"
   },
   {
    "duration": 4,
    "start_time": "2024-08-30T06:36:13.974Z"
   },
   {
    "duration": 4,
    "start_time": "2024-08-30T06:36:13.979Z"
   },
   {
    "duration": 13,
    "start_time": "2024-08-30T06:36:13.984Z"
   },
   {
    "duration": 3,
    "start_time": "2024-08-30T06:36:13.998Z"
   },
   {
    "duration": 6,
    "start_time": "2024-08-30T06:36:14.003Z"
   },
   {
    "duration": 176,
    "start_time": "2024-08-30T06:39:42.133Z"
   },
   {
    "duration": 761,
    "start_time": "2024-08-30T06:42:11.228Z"
   },
   {
    "duration": 15,
    "start_time": "2024-08-30T06:42:11.992Z"
   },
   {
    "duration": 6,
    "start_time": "2024-08-30T06:42:12.009Z"
   },
   {
    "duration": 10,
    "start_time": "2024-08-30T06:42:12.017Z"
   },
   {
    "duration": 7,
    "start_time": "2024-08-30T06:42:12.030Z"
   },
   {
    "duration": 4,
    "start_time": "2024-08-30T06:42:12.038Z"
   },
   {
    "duration": 27,
    "start_time": "2024-08-30T06:42:12.043Z"
   },
   {
    "duration": 12,
    "start_time": "2024-08-30T06:42:12.072Z"
   },
   {
    "duration": 3,
    "start_time": "2024-08-30T06:42:12.085Z"
   },
   {
    "duration": 6,
    "start_time": "2024-08-30T06:42:12.090Z"
   },
   {
    "duration": 656,
    "start_time": "2024-08-30T06:42:12.097Z"
   },
   {
    "duration": 159,
    "start_time": "2024-08-30T18:55:18.762Z"
   },
   {
    "duration": 787,
    "start_time": "2024-08-30T18:55:28.766Z"
   },
   {
    "duration": 20,
    "start_time": "2024-08-30T18:55:29.555Z"
   },
   {
    "duration": 7,
    "start_time": "2024-08-30T18:55:29.577Z"
   },
   {
    "duration": 9,
    "start_time": "2024-08-30T18:55:29.586Z"
   },
   {
    "duration": 7,
    "start_time": "2024-08-30T18:55:29.597Z"
   },
   {
    "duration": 4,
    "start_time": "2024-08-30T18:55:29.605Z"
   },
   {
    "duration": 4,
    "start_time": "2024-08-30T18:55:29.611Z"
   },
   {
    "duration": 12,
    "start_time": "2024-08-30T18:55:29.616Z"
   },
   {
    "duration": 3,
    "start_time": "2024-08-30T18:55:29.630Z"
   },
   {
    "duration": 5,
    "start_time": "2024-08-30T18:55:29.671Z"
   },
   {
    "duration": 637,
    "start_time": "2024-08-30T18:55:29.677Z"
   },
   {
    "duration": 652,
    "start_time": "2024-08-30T18:56:30.318Z"
   },
   {
    "duration": 804,
    "start_time": "2024-08-31T08:09:29.387Z"
   },
   {
    "duration": 15,
    "start_time": "2024-08-31T08:09:30.193Z"
   },
   {
    "duration": 8,
    "start_time": "2024-08-31T08:09:30.210Z"
   },
   {
    "duration": 10,
    "start_time": "2024-08-31T08:09:30.220Z"
   },
   {
    "duration": 8,
    "start_time": "2024-08-31T08:09:30.232Z"
   },
   {
    "duration": 28,
    "start_time": "2024-08-31T08:09:30.242Z"
   },
   {
    "duration": 3,
    "start_time": "2024-08-31T08:09:30.272Z"
   },
   {
    "duration": 12,
    "start_time": "2024-08-31T08:09:30.277Z"
   },
   {
    "duration": 3,
    "start_time": "2024-08-31T08:09:30.290Z"
   },
   {
    "duration": 5,
    "start_time": "2024-08-31T08:09:30.297Z"
   },
   {
    "duration": 658,
    "start_time": "2024-08-31T08:09:30.303Z"
   },
   {
    "duration": 232,
    "start_time": "2024-08-31T08:09:30.963Z"
   },
   {
    "duration": 1017,
    "start_time": "2024-08-31T08:09:54.591Z"
   },
   {
    "duration": 0,
    "start_time": "2024-08-31T08:09:55.611Z"
   },
   {
    "duration": 0,
    "start_time": "2024-08-31T08:09:55.612Z"
   },
   {
    "duration": 0,
    "start_time": "2024-08-31T08:09:55.614Z"
   },
   {
    "duration": 0,
    "start_time": "2024-08-31T08:09:55.615Z"
   },
   {
    "duration": 0,
    "start_time": "2024-08-31T08:09:55.617Z"
   },
   {
    "duration": 0,
    "start_time": "2024-08-31T08:09:55.618Z"
   },
   {
    "duration": 0,
    "start_time": "2024-08-31T08:09:55.620Z"
   },
   {
    "duration": 0,
    "start_time": "2024-08-31T08:09:55.621Z"
   },
   {
    "duration": 0,
    "start_time": "2024-08-31T08:09:55.622Z"
   },
   {
    "duration": 0,
    "start_time": "2024-08-31T08:09:55.624Z"
   },
   {
    "duration": 0,
    "start_time": "2024-08-31T08:09:55.625Z"
   },
   {
    "duration": 2651,
    "start_time": "2024-08-31T08:13:03.004Z"
   },
   {
    "duration": 23,
    "start_time": "2024-08-31T08:13:05.658Z"
   },
   {
    "duration": 8,
    "start_time": "2024-08-31T08:13:05.683Z"
   },
   {
    "duration": 10,
    "start_time": "2024-08-31T08:13:05.692Z"
   },
   {
    "duration": 7,
    "start_time": "2024-08-31T08:13:05.705Z"
   },
   {
    "duration": 5,
    "start_time": "2024-08-31T08:13:05.713Z"
   },
   {
    "duration": 3,
    "start_time": "2024-08-31T08:13:05.720Z"
   },
   {
    "duration": 11,
    "start_time": "2024-08-31T08:13:05.725Z"
   },
   {
    "duration": 34,
    "start_time": "2024-08-31T08:13:05.737Z"
   },
   {
    "duration": 6,
    "start_time": "2024-08-31T08:13:05.773Z"
   },
   {
    "duration": 647,
    "start_time": "2024-08-31T08:13:05.780Z"
   },
   {
    "duration": 2714,
    "start_time": "2024-08-31T16:58:12.308Z"
   },
   {
    "duration": 30,
    "start_time": "2024-08-31T16:58:15.024Z"
   },
   {
    "duration": 8,
    "start_time": "2024-08-31T16:58:15.056Z"
   },
   {
    "duration": 10,
    "start_time": "2024-08-31T16:58:15.066Z"
   },
   {
    "duration": 7,
    "start_time": "2024-08-31T16:58:15.079Z"
   },
   {
    "duration": 4,
    "start_time": "2024-08-31T16:58:15.088Z"
   },
   {
    "duration": 4,
    "start_time": "2024-08-31T16:58:15.094Z"
   },
   {
    "duration": 32,
    "start_time": "2024-08-31T16:58:15.100Z"
   },
   {
    "duration": 3,
    "start_time": "2024-08-31T16:58:15.134Z"
   },
   {
    "duration": 5,
    "start_time": "2024-08-31T16:58:15.139Z"
   },
   {
    "duration": 654,
    "start_time": "2024-08-31T16:58:15.146Z"
   },
   {
    "duration": 471432,
    "start_time": "2024-08-31T16:58:15.802Z"
   },
   {
    "duration": 2739,
    "start_time": "2024-09-01T03:06:41.830Z"
   },
   {
    "duration": 27,
    "start_time": "2024-09-01T03:06:44.572Z"
   },
   {
    "duration": 9,
    "start_time": "2024-09-01T03:06:44.601Z"
   },
   {
    "duration": 11,
    "start_time": "2024-09-01T03:06:44.612Z"
   },
   {
    "duration": 9,
    "start_time": "2024-09-01T03:06:44.632Z"
   },
   {
    "duration": 4,
    "start_time": "2024-09-01T03:06:44.642Z"
   },
   {
    "duration": 5,
    "start_time": "2024-09-01T03:06:44.648Z"
   },
   {
    "duration": 12,
    "start_time": "2024-09-01T03:06:44.654Z"
   },
   {
    "duration": 3,
    "start_time": "2024-09-01T03:06:44.668Z"
   },
   {
    "duration": 5,
    "start_time": "2024-09-01T03:06:44.674Z"
   },
   {
    "duration": 670,
    "start_time": "2024-09-01T03:06:44.681Z"
   },
   {
    "duration": 5,
    "start_time": "2024-09-01T03:06:45.353Z"
   },
   {
    "duration": 470780,
    "start_time": "2024-09-01T03:06:45.359Z"
   },
   {
    "duration": 640,
    "start_time": "2024-09-01T05:11:17.722Z"
   },
   {
    "duration": 626,
    "start_time": "2024-09-01T05:11:28.561Z"
   },
   {
    "duration": 169,
    "start_time": "2024-09-01T07:46:27.843Z"
   },
   {
    "duration": 25,
    "start_time": "2024-09-01T07:54:55.416Z"
   },
   {
    "duration": 2608,
    "start_time": "2024-09-01T08:54:10.302Z"
   },
   {
    "duration": 31,
    "start_time": "2024-09-01T08:54:12.912Z"
   },
   {
    "duration": 8,
    "start_time": "2024-09-01T08:54:12.944Z"
   },
   {
    "duration": 9,
    "start_time": "2024-09-01T08:54:12.954Z"
   },
   {
    "duration": 8,
    "start_time": "2024-09-01T08:54:12.965Z"
   },
   {
    "duration": 4,
    "start_time": "2024-09-01T08:54:12.974Z"
   },
   {
    "duration": 4,
    "start_time": "2024-09-01T08:54:12.980Z"
   },
   {
    "duration": 31,
    "start_time": "2024-09-01T08:54:12.986Z"
   },
   {
    "duration": 3,
    "start_time": "2024-09-01T08:54:13.019Z"
   },
   {
    "duration": 5,
    "start_time": "2024-09-01T08:54:13.024Z"
   },
   {
    "duration": 648,
    "start_time": "2024-09-01T08:54:13.031Z"
   },
   {
    "duration": 4,
    "start_time": "2024-09-01T08:54:13.681Z"
   },
   {
    "duration": 469128,
    "start_time": "2024-09-01T08:54:13.688Z"
   },
   {
    "duration": 676,
    "start_time": "2024-09-01T09:07:17.989Z"
   },
   {
    "duration": 997,
    "start_time": "2024-09-01T09:32:57.348Z"
   },
   {
    "duration": 0,
    "start_time": "2024-09-01T09:32:58.346Z"
   },
   {
    "duration": 0,
    "start_time": "2024-09-01T09:32:58.348Z"
   },
   {
    "duration": 0,
    "start_time": "2024-09-01T09:32:58.349Z"
   },
   {
    "duration": 0,
    "start_time": "2024-09-01T09:32:58.350Z"
   },
   {
    "duration": 0,
    "start_time": "2024-09-01T09:32:58.351Z"
   },
   {
    "duration": 0,
    "start_time": "2024-09-01T09:32:58.352Z"
   },
   {
    "duration": 0,
    "start_time": "2024-09-01T09:32:58.353Z"
   },
   {
    "duration": 0,
    "start_time": "2024-09-01T09:32:58.354Z"
   },
   {
    "duration": 0,
    "start_time": "2024-09-01T09:32:58.354Z"
   },
   {
    "duration": 0,
    "start_time": "2024-09-01T09:32:58.356Z"
   },
   {
    "duration": 0,
    "start_time": "2024-09-01T09:32:58.357Z"
   },
   {
    "duration": 0,
    "start_time": "2024-09-01T09:32:58.359Z"
   },
   {
    "duration": 931,
    "start_time": "2024-09-01T09:38:54.127Z"
   },
   {
    "duration": 17,
    "start_time": "2024-09-01T09:38:55.060Z"
   },
   {
    "duration": 8,
    "start_time": "2024-09-01T09:38:55.078Z"
   },
   {
    "duration": 22,
    "start_time": "2024-09-01T09:38:55.088Z"
   },
   {
    "duration": 7,
    "start_time": "2024-09-01T09:38:55.113Z"
   },
   {
    "duration": 4,
    "start_time": "2024-09-01T09:38:55.121Z"
   },
   {
    "duration": 3,
    "start_time": "2024-09-01T09:38:55.127Z"
   },
   {
    "duration": 11,
    "start_time": "2024-09-01T09:38:55.132Z"
   },
   {
    "duration": 3,
    "start_time": "2024-09-01T09:38:55.145Z"
   },
   {
    "duration": 6,
    "start_time": "2024-09-01T09:38:55.150Z"
   },
   {
    "duration": 712,
    "start_time": "2024-09-01T09:38:55.157Z"
   },
   {
    "duration": 5,
    "start_time": "2024-09-01T09:38:55.871Z"
   },
   {
    "duration": 102514,
    "start_time": "2024-09-01T09:38:55.878Z"
   },
   {
    "duration": 870,
    "start_time": "2024-09-01T09:40:44.297Z"
   },
   {
    "duration": 16,
    "start_time": "2024-09-01T09:40:45.169Z"
   },
   {
    "duration": 8,
    "start_time": "2024-09-01T09:40:45.186Z"
   },
   {
    "duration": 19,
    "start_time": "2024-09-01T09:40:45.195Z"
   },
   {
    "duration": 8,
    "start_time": "2024-09-01T09:40:45.216Z"
   },
   {
    "duration": 5,
    "start_time": "2024-09-01T09:40:45.225Z"
   },
   {
    "duration": 3,
    "start_time": "2024-09-01T09:40:45.232Z"
   },
   {
    "duration": 12,
    "start_time": "2024-09-01T09:40:45.238Z"
   },
   {
    "duration": 3,
    "start_time": "2024-09-01T09:40:45.252Z"
   },
   {
    "duration": 5,
    "start_time": "2024-09-01T09:40:45.258Z"
   },
   {
    "duration": 708,
    "start_time": "2024-09-01T09:40:45.265Z"
   },
   {
    "duration": 5,
    "start_time": "2024-09-01T09:40:45.975Z"
   },
   {
    "duration": 14169,
    "start_time": "2024-09-01T09:40:45.981Z"
   },
   {
    "duration": 867,
    "start_time": "2024-09-01T09:41:43.195Z"
   },
   {
    "duration": 21,
    "start_time": "2024-09-01T09:41:44.064Z"
   },
   {
    "duration": 8,
    "start_time": "2024-09-01T09:41:44.086Z"
   },
   {
    "duration": 21,
    "start_time": "2024-09-01T09:41:44.096Z"
   },
   {
    "duration": 8,
    "start_time": "2024-09-01T09:41:44.119Z"
   },
   {
    "duration": 5,
    "start_time": "2024-09-01T09:41:44.128Z"
   },
   {
    "duration": 4,
    "start_time": "2024-09-01T09:41:44.134Z"
   },
   {
    "duration": 13,
    "start_time": "2024-09-01T09:41:44.139Z"
   },
   {
    "duration": 3,
    "start_time": "2024-09-01T09:41:44.153Z"
   },
   {
    "duration": 5,
    "start_time": "2024-09-01T09:41:44.158Z"
   },
   {
    "duration": 718,
    "start_time": "2024-09-01T09:41:44.165Z"
   },
   {
    "duration": 4,
    "start_time": "2024-09-01T09:41:44.885Z"
   },
   {
    "duration": 402097,
    "start_time": "2024-09-01T09:41:44.891Z"
   },
   {
    "duration": 919,
    "start_time": "2024-09-01T09:58:56.563Z"
   },
   {
    "duration": 20,
    "start_time": "2024-09-01T09:58:57.484Z"
   },
   {
    "duration": 9,
    "start_time": "2024-09-01T09:58:57.506Z"
   },
   {
    "duration": 12,
    "start_time": "2024-09-01T09:58:57.516Z"
   },
   {
    "duration": 7,
    "start_time": "2024-09-01T09:58:57.531Z"
   },
   {
    "duration": 4,
    "start_time": "2024-09-01T09:58:57.539Z"
   },
   {
    "duration": 3,
    "start_time": "2024-09-01T09:58:57.545Z"
   },
   {
    "duration": 11,
    "start_time": "2024-09-01T09:58:57.550Z"
   },
   {
    "duration": 3,
    "start_time": "2024-09-01T09:58:57.562Z"
   },
   {
    "duration": 43,
    "start_time": "2024-09-01T09:58:57.567Z"
   },
   {
    "duration": 687,
    "start_time": "2024-09-01T09:58:57.612Z"
   },
   {
    "duration": 10,
    "start_time": "2024-09-01T09:58:58.301Z"
   },
   {
    "duration": 403314,
    "start_time": "2024-09-01T09:58:58.313Z"
   },
   {
    "duration": 944,
    "start_time": "2024-09-01T10:15:11.511Z"
   },
   {
    "duration": 16,
    "start_time": "2024-09-01T10:15:12.457Z"
   },
   {
    "duration": 7,
    "start_time": "2024-09-01T10:15:12.475Z"
   },
   {
    "duration": 26,
    "start_time": "2024-09-01T10:15:12.483Z"
   },
   {
    "duration": 8,
    "start_time": "2024-09-01T10:15:12.512Z"
   },
   {
    "duration": 5,
    "start_time": "2024-09-01T10:15:12.521Z"
   },
   {
    "duration": 4,
    "start_time": "2024-09-01T10:15:12.527Z"
   },
   {
    "duration": 12,
    "start_time": "2024-09-01T10:15:12.533Z"
   },
   {
    "duration": 3,
    "start_time": "2024-09-01T10:15:12.546Z"
   },
   {
    "duration": 5,
    "start_time": "2024-09-01T10:15:12.551Z"
   },
   {
    "duration": 711,
    "start_time": "2024-09-01T10:15:12.558Z"
   },
   {
    "duration": 4,
    "start_time": "2024-09-01T10:15:13.271Z"
   },
   {
    "duration": 400023,
    "start_time": "2024-09-01T10:15:13.277Z"
   },
   {
    "duration": 938,
    "start_time": "2024-09-01T10:55:08.415Z"
   },
   {
    "duration": 17,
    "start_time": "2024-09-01T10:55:09.355Z"
   },
   {
    "duration": 7,
    "start_time": "2024-09-01T10:55:09.373Z"
   },
   {
    "duration": 11,
    "start_time": "2024-09-01T10:55:09.382Z"
   },
   {
    "duration": 7,
    "start_time": "2024-09-01T10:55:09.408Z"
   },
   {
    "duration": 30,
    "start_time": "2024-09-01T10:55:09.417Z"
   },
   {
    "duration": 27,
    "start_time": "2024-09-01T10:55:09.449Z"
   },
   {
    "duration": 42,
    "start_time": "2024-09-01T10:55:09.477Z"
   },
   {
    "duration": 12,
    "start_time": "2024-09-01T10:55:09.521Z"
   },
   {
    "duration": 7,
    "start_time": "2024-09-01T10:55:09.535Z"
   },
   {
    "duration": 677,
    "start_time": "2024-09-01T10:55:09.543Z"
   },
   {
    "duration": 5,
    "start_time": "2024-09-01T10:55:10.221Z"
   },
   {
    "duration": 399021,
    "start_time": "2024-09-01T10:55:10.228Z"
   },
   {
    "duration": 161,
    "start_time": "2024-09-01T22:04:13.414Z"
   },
   {
    "duration": 2615,
    "start_time": "2024-09-01T22:04:22.577Z"
   },
   {
    "duration": 29,
    "start_time": "2024-09-01T22:04:25.195Z"
   },
   {
    "duration": 7,
    "start_time": "2024-09-01T22:04:25.226Z"
   },
   {
    "duration": 12,
    "start_time": "2024-09-01T22:04:25.234Z"
   },
   {
    "duration": 7,
    "start_time": "2024-09-01T22:04:25.248Z"
   },
   {
    "duration": 4,
    "start_time": "2024-09-01T22:04:25.257Z"
   },
   {
    "duration": 4,
    "start_time": "2024-09-01T22:04:25.263Z"
   },
   {
    "duration": 11,
    "start_time": "2024-09-01T22:04:25.288Z"
   },
   {
    "duration": 4,
    "start_time": "2024-09-01T22:04:25.300Z"
   },
   {
    "duration": 5,
    "start_time": "2024-09-01T22:04:25.306Z"
   },
   {
    "duration": 692,
    "start_time": "2024-09-01T22:04:25.313Z"
   },
   {
    "duration": 4,
    "start_time": "2024-09-01T22:04:26.007Z"
   },
   {
    "duration": 398608,
    "start_time": "2024-09-01T22:04:26.013Z"
   },
   {
    "duration": 675,
    "start_time": "2024-09-01T22:21:33.625Z"
   },
   {
    "duration": 904,
    "start_time": "2024-09-01T23:00:56.091Z"
   },
   {
    "duration": 912,
    "start_time": "2024-09-01T23:02:38.608Z"
   },
   {
    "duration": 16,
    "start_time": "2024-09-01T23:02:39.522Z"
   },
   {
    "duration": 7,
    "start_time": "2024-09-01T23:02:39.539Z"
   },
   {
    "duration": 10,
    "start_time": "2024-09-01T23:02:39.548Z"
   },
   {
    "duration": 28,
    "start_time": "2024-09-01T23:02:39.560Z"
   },
   {
    "duration": 4,
    "start_time": "2024-09-01T23:02:39.589Z"
   },
   {
    "duration": 4,
    "start_time": "2024-09-01T23:02:39.594Z"
   },
   {
    "duration": 10,
    "start_time": "2024-09-01T23:02:39.600Z"
   },
   {
    "duration": 3,
    "start_time": "2024-09-01T23:02:39.611Z"
   },
   {
    "duration": 5,
    "start_time": "2024-09-01T23:02:39.616Z"
   },
   {
    "duration": 702,
    "start_time": "2024-09-01T23:02:39.622Z"
   },
   {
    "duration": 4,
    "start_time": "2024-09-01T23:02:40.326Z"
   },
   {
    "duration": 403794,
    "start_time": "2024-09-01T23:02:40.332Z"
   },
   {
    "duration": 874,
    "start_time": "2024-09-01T23:09:24.130Z"
   },
   {
    "duration": 853,
    "start_time": "2024-09-01T23:13:58.608Z"
   },
   {
    "duration": 906,
    "start_time": "2024-09-01T23:14:14.695Z"
   },
   {
    "duration": 16,
    "start_time": "2024-09-01T23:34:02.839Z"
   },
   {
    "duration": 403205,
    "start_time": "2024-09-01T23:36:37.181Z"
   },
   {
    "duration": 3,
    "start_time": "2024-09-01T23:43:20.389Z"
   },
   {
    "duration": 932,
    "start_time": "2024-09-01T23:45:19.893Z"
   },
   {
    "duration": 16,
    "start_time": "2024-09-01T23:45:20.827Z"
   },
   {
    "duration": 7,
    "start_time": "2024-09-01T23:45:20.846Z"
   },
   {
    "duration": 11,
    "start_time": "2024-09-01T23:45:20.855Z"
   },
   {
    "duration": 23,
    "start_time": "2024-09-01T23:45:20.868Z"
   },
   {
    "duration": 4,
    "start_time": "2024-09-01T23:45:20.892Z"
   },
   {
    "duration": 3,
    "start_time": "2024-09-01T23:45:20.898Z"
   },
   {
    "duration": 11,
    "start_time": "2024-09-01T23:45:20.903Z"
   },
   {
    "duration": 4,
    "start_time": "2024-09-01T23:45:20.915Z"
   },
   {
    "duration": 4,
    "start_time": "2024-09-01T23:45:20.922Z"
   },
   {
    "duration": 712,
    "start_time": "2024-09-01T23:45:20.928Z"
   },
   {
    "duration": 4,
    "start_time": "2024-09-01T23:45:21.642Z"
   },
   {
    "duration": 402517,
    "start_time": "2024-09-01T23:45:21.647Z"
   },
   {
    "duration": 874,
    "start_time": "2024-09-01T23:52:04.166Z"
   },
   {
    "duration": 862,
    "start_time": "2024-09-02T00:11:40.360Z"
   },
   {
    "duration": 16,
    "start_time": "2024-09-02T00:11:41.225Z"
   },
   {
    "duration": 8,
    "start_time": "2024-09-02T00:11:41.242Z"
   },
   {
    "duration": 10,
    "start_time": "2024-09-02T00:11:41.252Z"
   },
   {
    "duration": 28,
    "start_time": "2024-09-02T00:11:41.264Z"
   },
   {
    "duration": 5,
    "start_time": "2024-09-02T00:11:41.293Z"
   },
   {
    "duration": 4,
    "start_time": "2024-09-02T00:11:41.299Z"
   },
   {
    "duration": 13,
    "start_time": "2024-09-02T00:11:41.305Z"
   },
   {
    "duration": 3,
    "start_time": "2024-09-02T00:11:41.320Z"
   },
   {
    "duration": 6,
    "start_time": "2024-09-02T00:11:41.326Z"
   },
   {
    "duration": 711,
    "start_time": "2024-09-02T00:11:41.333Z"
   },
   {
    "duration": 5,
    "start_time": "2024-09-02T00:11:42.046Z"
   },
   {
    "duration": 401468,
    "start_time": "2024-09-02T00:11:42.053Z"
   },
   {
    "duration": 884,
    "start_time": "2024-09-02T00:18:23.523Z"
   }
  ],
  "kernelspec": {
   "display_name": "Python 3 (ipykernel)",
   "language": "python",
   "name": "python3"
  },
  "language_info": {
   "codemirror_mode": {
    "name": "ipython",
    "version": 3
   },
   "file_extension": ".py",
   "mimetype": "text/x-python",
   "name": "python",
   "nbconvert_exporter": "python",
   "pygments_lexer": "ipython3",
   "version": "3.9.19"
  },
  "toc": {
   "base_numbering": 1,
   "nav_menu": {},
   "number_sections": true,
   "sideBar": true,
   "skip_h1_title": true,
   "title_cell": "Table of Contents",
   "title_sidebar": "Contents",
   "toc_cell": false,
   "toc_position": {},
   "toc_section_display": true,
   "toc_window_display": false
  }
 },
 "nbformat": 4,
 "nbformat_minor": 2
}
