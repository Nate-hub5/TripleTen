{
 "cells": [
  {
   "cell_type": "markdown",
   "metadata": {},
   "source": [
    "# Overview of Machine Learning Project\n",
    "\n",
    "**The Goal:**\n",
    "\n",
    "Developing a model that will analyze subscribers' behavior and recommend one of Megaline's newer plans. \n",
    "\n",
    "Smart or Ultra\n",
    "\n",
    "We've worked with the data set in the past and have arleady perfomred the necessary actions to begin the model. We want this model to achieve the highest possible accuracy with a threshold for accuracy of 0.75. \n",
    "\n",
    "1. Split the source data into a training set, a validation set, and a test set.\n",
    "2. Check the quality of different models by changing hyperparameters.\n",
    "3. Check the quality of the model using the test set.\n",
    "4. Perform a sanity check on the model.\n",
    "\n",
    "**Break down of the data set**\n",
    "\n",
    "Every observation in the dataset contains monthly behavior information about one user.\n",
    "\n",
    "\n",
    "сalls — number of calls,\n",
    "minutes — total call duration in minutes,\n",
    "messages — number of text messages,\n",
    "mb_used — Internet traffic used in MB,\n",
    "is_ultra — plan for the current month (Ultra - 1, Smart - 0).\n"
   ]
  },
  {
   "cell_type": "markdown",
   "metadata": {},
   "source": [
    "# Instructions\n",
    "\n",
    "**1.Initialization:** Set up the environment by importing the necessary libraries and preparing for analysis.\n",
    "\n",
    "**2. Reading the dataset:** The data has already been cleaned and ready for modeling.\n",
    "\n",
    "**3. Train / Split data** Identify features and target while splitting the dataset.\n",
    "\n",
    "**4. Model Preparation** Setting up our models and adding error count / accuracy.\n",
    "\n",
    "**5. Model Evaluation** Hypertuning each model to achieve the highest accuracy score. "
   ]
  },
  {
   "cell_type": "markdown",
   "metadata": {},
   "source": [
    "# Initialization"
   ]
  },
  {
   "cell_type": "code",
   "execution_count": 14,
   "metadata": {},
   "outputs": [],
   "source": [
    "#Adding all the imports\n",
    "\n",
    "import pandas as pd\n",
    "import numpy as np\n",
    "from sklearn.model_selection import GridSearchCV\n",
    "from sklearn.model_selection import train_test_split\n",
    "from sklearn.metrics import mean_squared_error\n",
    "from sklearn.tree import DecisionTreeClassifier\n",
    "from sklearn.ensemble import RandomForestClassifier\n",
    "from sklearn.linear_model import LogisticRegression "
   ]
  },
  {
   "cell_type": "markdown",
   "metadata": {},
   "source": [
    "# Reading Dataset"
   ]
  },
  {
   "cell_type": "code",
   "execution_count": 15,
   "metadata": {},
   "outputs": [
    {
     "name": "stdout",
     "output_type": "stream",
     "text": [
      "<class 'pandas.core.frame.DataFrame'>\n",
      "RangeIndex: 3214 entries, 0 to 3213\n",
      "Data columns (total 5 columns):\n",
      " #   Column    Non-Null Count  Dtype  \n",
      "---  ------    --------------  -----  \n",
      " 0   calls     3214 non-null   float64\n",
      " 1   minutes   3214 non-null   float64\n",
      " 2   messages  3214 non-null   float64\n",
      " 3   mb_used   3214 non-null   float64\n",
      " 4   is_ultra  3214 non-null   int64  \n",
      "dtypes: float64(4), int64(1)\n",
      "memory usage: 125.7 KB\n",
      "None\n"
     ]
    }
   ],
   "source": [
    "#Reading the data set \n",
    "df = pd.read_csv('users_behavior.csv')\n",
    "\n",
    "#Printing info\n",
    "print(df.info())"
   ]
  },
  {
   "cell_type": "markdown",
   "metadata": {},
   "source": [
    "# Train / Split data"
   ]
  },
  {
   "cell_type": "code",
   "execution_count": 16,
   "metadata": {},
   "outputs": [],
   "source": [
    "#Setting my featues and target\n",
    "features = df.drop(['is_ultra'], axis = 1)\n",
    "target = df['is_ultra']"
   ]
  },
  {
   "cell_type": "code",
   "execution_count": 17,
   "metadata": {},
   "outputs": [],
   "source": [
    "#Spilting my data set into a training set, a validation set, and a test set\n",
    "\n",
    "#First split: training set and a temporary set (which will be split further)\n",
    "df_train, df_temp = train_test_split(df, test_size=0.40, random_state=12345)\n",
    "\n",
    "#Second split: temporary set into validation set and test set\n",
    "df_valid, df_test = train_test_split(df_temp, test_size=0.50, random_state=12345)"
   ]
  },
  {
   "cell_type": "code",
   "execution_count": 18,
   "metadata": {},
   "outputs": [
    {
     "name": "stdout",
     "output_type": "stream",
     "text": [
      "(1928, 4)\n",
      "(1928,)\n",
      "(643, 4)\n",
      "(643,)\n",
      "(643, 4)\n",
      "(643,)\n"
     ]
    }
   ],
   "source": [
    "#Declaring new variables\n",
    "features_train = df_train.drop(['is_ultra'], axis = 1)\n",
    "target_train = df_train['is_ultra']\n",
    "features_valid = df_valid.drop(['is_ultra'], axis = 1)\n",
    "target_valid = df_valid['is_ultra']\n",
    "features_test = df_test.drop(['is_ultra'], axis = 1)\n",
    "target_test = df_test['is_ultra']\n",
    "\n",
    "#Print shape of each feature and target\n",
    "print(features_train.shape)\n",
    "print(target_train.shape)\n",
    "print(features_valid.shape)\n",
    "print(target_valid.shape)\n",
    "print(features_test.shape)\n",
    "print(target_test.shape)\n",
    "\n"
   ]
  },
  {
   "cell_type": "markdown",
   "metadata": {},
   "source": [
    "# Model Preparation "
   ]
  },
  {
   "cell_type": "code",
   "execution_count": 19,
   "metadata": {},
   "outputs": [],
   "source": [
    "#Decision Tree regressor model\n",
    "decision_tree_model = DecisionTreeClassifier(random_state=12345, max_depth=10)\n",
    "decision_tree_model.fit(features_train, target_train)\n",
    "decision_tree_predictions = decision_tree_model.predict(features_test)"
   ]
  },
  {
   "cell_type": "code",
   "execution_count": 20,
   "metadata": {},
   "outputs": [],
   "source": [
    "#Random Forest Classifier model\n",
    "random_forest_model = RandomForestClassifier(random_state=12345, n_estimators=50, max_depth=10)\n",
    "random_forest_model.fit(features_train, target_train)\n",
    "random_forest_predictions = random_forest_model.predict(features_test)"
   ]
  },
  {
   "cell_type": "code",
   "execution_count": 21,
   "metadata": {},
   "outputs": [],
   "source": [
    "#Logistic Regression model\n",
    "logistic_regression_model = LogisticRegression(random_state=12345, max_iter=500)\n",
    "logistic_regression_model.fit(features_train, target_train)\n",
    "logistic_regression_predictions = logistic_regression_model.predict(features_test)"
   ]
  },
  {
   "cell_type": "code",
   "execution_count": 22,
   "metadata": {},
   "outputs": [],
   "source": [
    "#Accuracy and Error def\n",
    "def error_count(answers, predictions):\n",
    "    answers = np.array(answers)\n",
    "    predictions = np.array(predictions)\n",
    "    count = np.sum(answers != predictions)\n",
    "    return count\n",
    "\n",
    "def accuracy(answers, predictions):\n",
    "    answers = np.array(answers)\n",
    "    predictions = np.array(predictions)\n",
    "    correct = np.sum(answers == predictions)\n",
    "    return correct / len(answers)"
   ]
  },
  {
   "cell_type": "code",
   "execution_count": 23,
   "metadata": {
    "scrolled": true
   },
   "outputs": [
    {
     "name": "stdout",
     "output_type": "stream",
     "text": [
      "Decision Tree Accuracy on the test set: 0.788\n",
      "Decision Tree Error Count on the test set: 136\n",
      "Random Forest Accuracy on the test set: 0.801\n",
      "Random Forest Error Count on the test set: 128\n",
      "Logistic Regression Accuracy on the test set: 0.739\n",
      "Logistic Regression Error Count on the test set: 168\n"
     ]
    }
   ],
   "source": [
    "#Evaluate Decision Tree\n",
    "print(f\"Decision Tree Accuracy on the test set: {accuracy(target_test, decision_tree_predictions).round(3)}\")\n",
    "print(f\"Decision Tree Error Count on the test set: {error_count(target_test, decision_tree_predictions)}\")\n",
    "\n",
    "#Evaluate Random Forest\n",
    "print(f\"Random Forest Accuracy on the test set: {accuracy(target_test, random_forest_predictions).round(3)}\")\n",
    "print(f\"Random Forest Error Count on the test set: {error_count(target_test, random_forest_predictions)}\")\n",
    "\n",
    "#Evaluate Logistic Regression\n",
    "print(f\"Logistic Regression Accuracy on the test set: {accuracy(target_test, logistic_regression_predictions).round(3)}\")\n",
    "print(f\"Logistic Regression Error Count on the test set: {error_count(target_test, logistic_regression_predictions)}\")"
   ]
  },
  {
   "cell_type": "markdown",
   "metadata": {},
   "source": [
    "# Model Evaluation"
   ]
  },
  {
   "cell_type": "code",
   "execution_count": 26,
   "metadata": {},
   "outputs": [
    {
     "name": "stdout",
     "output_type": "stream",
     "text": [
      "Best parameters for Decision Tree: {'max_depth': 10}\n",
      "Best accuracy score for Decision Tree: 0.794606015745912\n",
      "Best parameters for Random Forest: {'max_depth': 10, 'n_estimators': 100}\n",
      "Best accuracy score for Random Forest: 0.8205477424130274\n",
      "Best parameters for Logistic Regression: {'C': 0.01}\n",
      "Best accuracy score for Logistic Regression: 0.7484529977794226\n"
     ]
    }
   ],
   "source": [
    "#Define parameter grids for each model\n",
    "param_grid_dt = {\n",
    "    'max_depth': [None, 10, 20, 30]\n",
    "}\n",
    "\n",
    "param_grid_rf = {\n",
    "    'n_estimators': [50, 100, 150],\n",
    "    'max_depth': [None, 10, 20, 30]\n",
    "}\n",
    "\n",
    "param_grid_lr = {\n",
    "    'C': [0.01, 0.1, 1, 10, 100],\n",
    "}\n",
    "\n",
    "\n",
    "dt_model = DecisionTreeClassifier(random_state=12345)\n",
    "rf_model = RandomForestClassifier(random_state=12345)\n",
    "lr_model = LogisticRegression(random_state=12345, max_iter=500)\n",
    "\n",
    "#Grid Search for each model\n",
    "grid_search_dt = GridSearchCV(estimator=dt_model, param_grid=param_grid_dt, cv=5, scoring='accuracy', n_jobs=-1)\n",
    "grid_search_rf = GridSearchCV(estimator=rf_model, param_grid=param_grid_rf, cv=5, scoring='accuracy', n_jobs=-1)\n",
    "grid_search_lr = GridSearchCV(estimator=lr_model, param_grid=param_grid_lr, cv=5, scoring='accuracy', n_jobs=-1)\n",
    "\n",
    "#Grid Search\n",
    "grid_search_dt.fit(features_train, target_train)\n",
    "grid_search_rf.fit(features_train, target_train)\n",
    "grid_search_lr.fit(features_train, target_train)\n",
    "\n",
    "#Best parameters and best score\n",
    "print(\"Best parameters for Decision Tree:\", grid_search_dt.best_params_)\n",
    "print(\"Best accuracy score for Decision Tree:\", grid_search_dt.best_score_)\n",
    "\n",
    "print(\"Best parameters for Random Forest:\", grid_search_rf.best_params_)\n",
    "print(\"Best accuracy score for Random Forest:\", grid_search_rf.best_score_)\n",
    "\n",
    "print(\"Best parameters for Logistic Regression:\", grid_search_lr.best_params_)\n",
    "print(\"Best accuracy score for Logistic Regression:\", grid_search_lr.best_score_)"
   ]
  },
  {
   "cell_type": "code",
   "execution_count": 25,
   "metadata": {},
   "outputs": [
    {
     "name": "stdout",
     "output_type": "stream",
     "text": [
      "Random Forest Accuracy on the test set: 0.806\n",
      "Random Forest Error Count on the test set: 125\n"
     ]
    }
   ],
   "source": [
    "best_rf_model = RandomForestClassifier(random_state=12345, n_estimators=100, max_depth=10)\n",
    "best_rf_model.fit(features_train, target_train)\n",
    "random_forest_predictions = best_rf_model.predict(features_test)\n",
    "\n",
    "\n",
    "#Evaluate Random Forest\n",
    "print(f\"Random Forest Accuracy on the test set: {accuracy(target_test, random_forest_predictions).round(3)}\")\n",
    "print(f\"Random Forest Error Count on the test set: {error_count(target_test, random_forest_predictions)}\")"
   ]
  },
  {
   "cell_type": "markdown",
   "metadata": {},
   "source": [
    "# Conclusion"
   ]
  },
  {
   "cell_type": "markdown",
   "metadata": {},
   "source": [
    "After learning about sklearn.model_selection import GridSearchCV I was able to hypertune each parameter to achieve the highest possible accuracy. Now each model has the highest possible accuracy thanks to GridSearchCV.\n",
    "\n",
    "\n",
    "***OVER ALL CONCLUSION***\n",
    "\n",
    "I'd select the Random Forest model according to the higher accuracy model. We finished with a .806 accuracy and a total of 125 errors. "
   ]
  }
 ],
 "metadata": {
  "ExecuteTimeLog": [
   {
    "duration": 1250,
    "start_time": "2024-08-17T06:21:28.532Z"
   },
   {
    "duration": 1114,
    "start_time": "2024-08-17T06:22:05.390Z"
   },
   {
    "duration": 33,
    "start_time": "2024-08-17T06:23:16.796Z"
   },
   {
    "duration": 20,
    "start_time": "2024-08-17T06:24:00.733Z"
   },
   {
    "duration": 5,
    "start_time": "2024-08-17T07:03:02.696Z"
   },
   {
    "duration": 306,
    "start_time": "2024-08-17T19:59:38.386Z"
   },
   {
    "duration": 1215,
    "start_time": "2024-08-17T19:59:49.679Z"
   },
   {
    "duration": 28,
    "start_time": "2024-08-17T19:59:50.898Z"
   },
   {
    "duration": 5,
    "start_time": "2024-08-17T19:59:50.928Z"
   },
   {
    "duration": 7,
    "start_time": "2024-08-17T19:59:50.937Z"
   },
   {
    "duration": 1195,
    "start_time": "2024-08-17T20:24:04.741Z"
   },
   {
    "duration": 24,
    "start_time": "2024-08-17T20:24:05.939Z"
   },
   {
    "duration": 5,
    "start_time": "2024-08-17T20:24:05.966Z"
   },
   {
    "duration": 8,
    "start_time": "2024-08-17T20:24:05.974Z"
   },
   {
    "duration": 37,
    "start_time": "2024-08-17T20:24:05.986Z"
   },
   {
    "duration": 1217,
    "start_time": "2024-08-17T20:40:50.762Z"
   },
   {
    "duration": 22,
    "start_time": "2024-08-17T20:40:51.983Z"
   },
   {
    "duration": 15,
    "start_time": "2024-08-17T20:40:52.011Z"
   },
   {
    "duration": 9,
    "start_time": "2024-08-17T20:40:52.032Z"
   },
   {
    "duration": 452,
    "start_time": "2024-08-17T20:40:52.044Z"
   },
   {
    "duration": 1234,
    "start_time": "2024-08-17T20:41:15.163Z"
   },
   {
    "duration": 30,
    "start_time": "2024-08-17T20:41:16.401Z"
   },
   {
    "duration": 7,
    "start_time": "2024-08-17T20:41:16.435Z"
   },
   {
    "duration": 25,
    "start_time": "2024-08-17T20:41:16.448Z"
   },
   {
    "duration": 15,
    "start_time": "2024-08-17T20:41:16.477Z"
   },
   {
    "duration": 1200,
    "start_time": "2024-08-17T20:41:50.811Z"
   },
   {
    "duration": 29,
    "start_time": "2024-08-17T20:41:52.014Z"
   },
   {
    "duration": 6,
    "start_time": "2024-08-17T20:41:52.047Z"
   },
   {
    "duration": 13,
    "start_time": "2024-08-17T20:41:52.057Z"
   },
   {
    "duration": 12,
    "start_time": "2024-08-17T20:41:52.074Z"
   },
   {
    "duration": 1219,
    "start_time": "2024-08-17T20:42:03.832Z"
   },
   {
    "duration": 25,
    "start_time": "2024-08-17T20:42:05.054Z"
   },
   {
    "duration": 5,
    "start_time": "2024-08-17T20:42:05.082Z"
   },
   {
    "duration": 30,
    "start_time": "2024-08-17T20:42:05.094Z"
   },
   {
    "duration": 12,
    "start_time": "2024-08-17T20:42:05.129Z"
   },
   {
    "duration": 10,
    "start_time": "2024-08-17T20:44:28.896Z"
   },
   {
    "duration": 11,
    "start_time": "2024-08-17T20:44:32.264Z"
   },
   {
    "duration": 12,
    "start_time": "2024-08-17T20:44:33.487Z"
   },
   {
    "duration": 9,
    "start_time": "2024-08-17T20:45:39.926Z"
   },
   {
    "duration": 10,
    "start_time": "2024-08-17T20:45:40.171Z"
   },
   {
    "duration": 9,
    "start_time": "2024-08-17T20:46:01.474Z"
   },
   {
    "duration": 10,
    "start_time": "2024-08-17T20:46:01.816Z"
   },
   {
    "duration": 311,
    "start_time": "2024-08-17T21:29:42.750Z"
   },
   {
    "duration": 1182,
    "start_time": "2024-08-18T06:53:05.790Z"
   },
   {
    "duration": 27,
    "start_time": "2024-08-18T06:53:06.976Z"
   },
   {
    "duration": 5,
    "start_time": "2024-08-18T06:53:07.006Z"
   },
   {
    "duration": 9,
    "start_time": "2024-08-18T06:53:07.026Z"
   },
   {
    "duration": 11,
    "start_time": "2024-08-18T06:53:07.038Z"
   },
   {
    "duration": 40,
    "start_time": "2024-08-18T06:53:07.052Z"
   },
   {
    "duration": 42,
    "start_time": "2024-08-18T06:53:55.947Z"
   },
   {
    "duration": 40,
    "start_time": "2024-08-18T06:54:01.575Z"
   },
   {
    "duration": 40,
    "start_time": "2024-08-18T06:54:06.297Z"
   },
   {
    "duration": 5991,
    "start_time": "2024-08-18T06:55:22.485Z"
   },
   {
    "duration": 13,
    "start_time": "2024-08-18T08:21:38.128Z"
   },
   {
    "duration": 3366,
    "start_time": "2024-08-18T08:23:43.040Z"
   },
   {
    "duration": 3378,
    "start_time": "2024-08-18T08:25:18.254Z"
   },
   {
    "duration": 10,
    "start_time": "2024-08-18T08:25:40.664Z"
   },
   {
    "duration": 10689,
    "start_time": "2024-08-18T08:39:03.398Z"
   },
   {
    "duration": 1194,
    "start_time": "2024-08-18T21:50:12.636Z"
   },
   {
    "duration": 27,
    "start_time": "2024-08-18T21:50:13.834Z"
   },
   {
    "duration": 5,
    "start_time": "2024-08-18T21:50:13.867Z"
   },
   {
    "duration": 9,
    "start_time": "2024-08-18T21:50:13.877Z"
   },
   {
    "duration": 10,
    "start_time": "2024-08-18T21:50:13.888Z"
   },
   {
    "duration": 78,
    "start_time": "2024-08-18T21:50:13.901Z"
   },
   {
    "duration": 19323,
    "start_time": "2024-08-18T21:50:13.982Z"
   },
   {
    "duration": 13,
    "start_time": "2024-08-18T21:50:33.310Z"
   },
   {
    "duration": 17,
    "start_time": "2024-08-18T21:55:06.501Z"
   },
   {
    "duration": 18,
    "start_time": "2024-08-18T21:55:23.145Z"
   },
   {
    "duration": 8,
    "start_time": "2024-08-18T21:55:34.477Z"
   },
   {
    "duration": 17,
    "start_time": "2024-08-18T21:56:28.845Z"
   },
   {
    "duration": 31,
    "start_time": "2024-08-18T21:56:51.421Z"
   },
   {
    "duration": 39,
    "start_time": "2024-08-18T21:57:33.357Z"
   },
   {
    "duration": 1075,
    "start_time": "2024-08-18T22:01:28.348Z"
   },
   {
    "duration": 12,
    "start_time": "2024-08-18T22:06:54.961Z"
   },
   {
    "duration": 1193,
    "start_time": "2024-08-18T22:07:14.036Z"
   },
   {
    "duration": 23,
    "start_time": "2024-08-18T22:07:15.232Z"
   },
   {
    "duration": 10,
    "start_time": "2024-08-18T22:07:15.258Z"
   },
   {
    "duration": 10,
    "start_time": "2024-08-18T22:07:15.273Z"
   },
   {
    "duration": 12,
    "start_time": "2024-08-18T22:07:15.285Z"
   },
   {
    "duration": 80,
    "start_time": "2024-08-18T22:07:15.300Z"
   },
   {
    "duration": 19356,
    "start_time": "2024-08-18T22:07:15.383Z"
   },
   {
    "duration": 28,
    "start_time": "2024-08-18T22:07:34.742Z"
   },
   {
    "duration": 6,
    "start_time": "2024-08-18T22:07:34.773Z"
   },
   {
    "duration": 1106,
    "start_time": "2024-08-18T22:07:34.783Z"
   },
   {
    "duration": 55,
    "start_time": "2024-08-18T22:09:57.113Z"
   },
   {
    "duration": 5,
    "start_time": "2024-08-18T22:10:04.144Z"
   },
   {
    "duration": 25,
    "start_time": "2024-08-18T22:10:11.964Z"
   },
   {
    "duration": 4,
    "start_time": "2024-08-18T22:15:18.243Z"
   },
   {
    "duration": 17,
    "start_time": "2024-08-18T22:15:25.001Z"
   },
   {
    "duration": 21,
    "start_time": "2024-08-18T22:16:18.968Z"
   },
   {
    "duration": 316,
    "start_time": "2024-08-18T22:22:45.848Z"
   },
   {
    "duration": 4,
    "start_time": "2024-08-18T22:23:20.522Z"
   },
   {
    "duration": 1273,
    "start_time": "2024-08-18T22:24:06.161Z"
   },
   {
    "duration": 31,
    "start_time": "2024-08-18T22:24:07.438Z"
   },
   {
    "duration": 5,
    "start_time": "2024-08-18T22:24:07.473Z"
   },
   {
    "duration": 10,
    "start_time": "2024-08-18T22:24:07.486Z"
   },
   {
    "duration": 10,
    "start_time": "2024-08-18T22:24:07.499Z"
   },
   {
    "duration": 55,
    "start_time": "2024-08-18T22:24:07.513Z"
   },
   {
    "duration": 55,
    "start_time": "2024-08-18T22:24:07.570Z"
   },
   {
    "duration": 50,
    "start_time": "2024-08-18T22:24:07.628Z"
   },
   {
    "duration": 5,
    "start_time": "2024-08-18T22:24:07.682Z"
   },
   {
    "duration": 8,
    "start_time": "2024-08-18T22:24:07.692Z"
   },
   {
    "duration": 6,
    "start_time": "2024-08-18T22:50:21.750Z"
   },
   {
    "duration": 1186,
    "start_time": "2024-08-18T22:52:00.827Z"
   },
   {
    "duration": 23,
    "start_time": "2024-08-18T22:52:02.016Z"
   },
   {
    "duration": 5,
    "start_time": "2024-08-18T22:52:02.041Z"
   },
   {
    "duration": 10,
    "start_time": "2024-08-18T22:52:02.067Z"
   },
   {
    "duration": 12,
    "start_time": "2024-08-18T22:52:02.080Z"
   },
   {
    "duration": 14,
    "start_time": "2024-08-18T22:52:02.095Z"
   },
   {
    "duration": 255,
    "start_time": "2024-08-18T22:52:02.111Z"
   },
   {
    "duration": 30,
    "start_time": "2024-08-18T22:52:02.368Z"
   },
   {
    "duration": 5,
    "start_time": "2024-08-18T22:52:02.401Z"
   },
   {
    "duration": 7,
    "start_time": "2024-08-18T22:52:02.411Z"
   },
   {
    "duration": 8,
    "start_time": "2024-08-18T22:52:14.276Z"
   },
   {
    "duration": 1246,
    "start_time": "2024-08-19T00:38:03.414Z"
   },
   {
    "duration": 25,
    "start_time": "2024-08-19T00:38:04.667Z"
   },
   {
    "duration": 5,
    "start_time": "2024-08-19T00:38:04.696Z"
   },
   {
    "duration": 8,
    "start_time": "2024-08-19T00:38:04.705Z"
   },
   {
    "duration": 48,
    "start_time": "2024-08-19T00:38:04.719Z"
   },
   {
    "duration": 56,
    "start_time": "2024-08-19T00:38:04.772Z"
   },
   {
    "duration": 266,
    "start_time": "2024-08-19T00:38:04.831Z"
   },
   {
    "duration": 32,
    "start_time": "2024-08-19T00:38:05.100Z"
   },
   {
    "duration": 10,
    "start_time": "2024-08-19T00:38:05.136Z"
   },
   {
    "duration": 11,
    "start_time": "2024-08-19T00:38:05.168Z"
   },
   {
    "duration": 1284,
    "start_time": "2024-08-19T00:40:32.495Z"
   },
   {
    "duration": 25,
    "start_time": "2024-08-19T00:40:33.784Z"
   },
   {
    "duration": 6,
    "start_time": "2024-08-19T00:40:33.813Z"
   },
   {
    "duration": 45,
    "start_time": "2024-08-19T00:40:33.823Z"
   },
   {
    "duration": 15,
    "start_time": "2024-08-19T00:40:33.873Z"
   },
   {
    "duration": 77,
    "start_time": "2024-08-19T00:40:33.892Z"
   },
   {
    "duration": 238,
    "start_time": "2024-08-19T00:40:33.972Z"
   },
   {
    "duration": 55,
    "start_time": "2024-08-19T00:40:34.213Z"
   },
   {
    "duration": 7,
    "start_time": "2024-08-19T00:40:34.271Z"
   },
   {
    "duration": 11,
    "start_time": "2024-08-19T00:40:34.282Z"
   },
   {
    "duration": 26620,
    "start_time": "2024-08-19T00:40:34.298Z"
   },
   {
    "duration": 1254,
    "start_time": "2024-08-19T00:43:49.871Z"
   },
   {
    "duration": 23,
    "start_time": "2024-08-19T00:43:51.129Z"
   },
   {
    "duration": 7,
    "start_time": "2024-08-19T00:43:51.167Z"
   },
   {
    "duration": 12,
    "start_time": "2024-08-19T00:43:51.178Z"
   },
   {
    "duration": 14,
    "start_time": "2024-08-19T00:43:51.198Z"
   },
   {
    "duration": 103,
    "start_time": "2024-08-19T00:43:51.217Z"
   },
   {
    "duration": 455,
    "start_time": "2024-08-19T00:43:51.324Z"
   },
   {
    "duration": 30,
    "start_time": "2024-08-19T00:43:51.782Z"
   },
   {
    "duration": 14,
    "start_time": "2024-08-19T00:43:51.817Z"
   },
   {
    "duration": 9,
    "start_time": "2024-08-19T00:43:51.835Z"
   },
   {
    "duration": 26686,
    "start_time": "2024-08-19T00:43:51.869Z"
   },
   {
    "duration": 7,
    "start_time": "2024-08-19T00:46:19.337Z"
   },
   {
    "duration": 9,
    "start_time": "2024-08-19T00:46:40.893Z"
   },
   {
    "duration": 660327,
    "start_time": "2024-08-19T02:41:52.153Z"
   },
   {
    "duration": 1217,
    "start_time": "2024-08-19T03:12:40.839Z"
   },
   {
    "duration": 27,
    "start_time": "2024-08-19T03:12:42.061Z"
   },
   {
    "duration": 5,
    "start_time": "2024-08-19T03:12:42.092Z"
   },
   {
    "duration": 11,
    "start_time": "2024-08-19T03:12:42.101Z"
   },
   {
    "duration": 15,
    "start_time": "2024-08-19T03:12:42.117Z"
   },
   {
    "duration": 63,
    "start_time": "2024-08-19T03:12:42.169Z"
   },
   {
    "duration": 490,
    "start_time": "2024-08-19T03:12:42.235Z"
   },
   {
    "duration": 45,
    "start_time": "2024-08-19T03:12:42.728Z"
   },
   {
    "duration": 7,
    "start_time": "2024-08-19T03:12:42.776Z"
   },
   {
    "duration": 9,
    "start_time": "2024-08-19T03:12:42.787Z"
   },
   {
    "duration": 681342,
    "start_time": "2024-08-19T03:12:42.799Z"
   },
   {
    "duration": 1168,
    "start_time": "2024-08-19T03:33:40.493Z"
   },
   {
    "duration": 22,
    "start_time": "2024-08-19T03:33:41.665Z"
   },
   {
    "duration": 5,
    "start_time": "2024-08-19T03:33:41.690Z"
   },
   {
    "duration": 8,
    "start_time": "2024-08-19T03:33:41.698Z"
   },
   {
    "duration": 10,
    "start_time": "2024-08-19T03:33:41.710Z"
   },
   {
    "duration": 56,
    "start_time": "2024-08-19T03:33:41.724Z"
   },
   {
    "duration": 235,
    "start_time": "2024-08-19T03:33:41.782Z"
   },
   {
    "duration": 34,
    "start_time": "2024-08-19T03:33:42.020Z"
   },
   {
    "duration": 7,
    "start_time": "2024-08-19T03:33:42.067Z"
   },
   {
    "duration": 9,
    "start_time": "2024-08-19T03:33:42.077Z"
   },
   {
    "duration": 26750,
    "start_time": "2024-08-19T03:33:42.089Z"
   },
   {
    "duration": 1262,
    "start_time": "2024-08-19T03:42:06.599Z"
   },
   {
    "duration": 32,
    "start_time": "2024-08-19T03:42:07.866Z"
   },
   {
    "duration": 6,
    "start_time": "2024-08-19T03:42:07.902Z"
   },
   {
    "duration": 11,
    "start_time": "2024-08-19T03:42:07.911Z"
   },
   {
    "duration": 10,
    "start_time": "2024-08-19T03:42:07.926Z"
   },
   {
    "duration": 23,
    "start_time": "2024-08-19T03:42:07.969Z"
   },
   {
    "duration": 242,
    "start_time": "2024-08-19T03:42:07.994Z"
   },
   {
    "duration": 38,
    "start_time": "2024-08-19T03:42:08.239Z"
   },
   {
    "duration": 8,
    "start_time": "2024-08-19T03:42:08.280Z"
   },
   {
    "duration": 7,
    "start_time": "2024-08-19T03:42:08.292Z"
   },
   {
    "duration": 27197,
    "start_time": "2024-08-19T03:42:08.303Z"
   },
   {
    "duration": 342,
    "start_time": "2024-08-20T03:21:24.710Z"
   },
   {
    "duration": 1271,
    "start_time": "2024-08-20T03:21:49.484Z"
   },
   {
    "duration": 39,
    "start_time": "2024-08-20T03:21:50.760Z"
   },
   {
    "duration": 6,
    "start_time": "2024-08-20T03:21:50.802Z"
   },
   {
    "duration": 9,
    "start_time": "2024-08-20T03:21:50.812Z"
   },
   {
    "duration": 42,
    "start_time": "2024-08-20T03:21:50.827Z"
   },
   {
    "duration": 19,
    "start_time": "2024-08-20T03:21:50.873Z"
   },
   {
    "duration": 279,
    "start_time": "2024-08-20T03:21:50.896Z"
   },
   {
    "duration": 42,
    "start_time": "2024-08-20T03:21:51.178Z"
   },
   {
    "duration": 8,
    "start_time": "2024-08-20T03:21:51.223Z"
   },
   {
    "duration": 37,
    "start_time": "2024-08-20T03:21:51.235Z"
   },
   {
    "duration": 27954,
    "start_time": "2024-08-20T03:21:51.276Z"
   },
   {
    "duration": 288,
    "start_time": "2024-08-20T03:22:19.236Z"
   },
   {
    "duration": 1260,
    "start_time": "2024-08-20T08:14:07.365Z"
   },
   {
    "duration": 22,
    "start_time": "2024-08-20T08:14:08.629Z"
   },
   {
    "duration": 19,
    "start_time": "2024-08-20T08:14:08.653Z"
   },
   {
    "duration": 11,
    "start_time": "2024-08-20T08:14:08.676Z"
   },
   {
    "duration": 11,
    "start_time": "2024-08-20T08:14:08.690Z"
   },
   {
    "duration": 18,
    "start_time": "2024-08-20T08:14:08.704Z"
   },
   {
    "duration": 260,
    "start_time": "2024-08-20T08:14:08.724Z"
   },
   {
    "duration": 30,
    "start_time": "2024-08-20T08:14:08.987Z"
   },
   {
    "duration": 5,
    "start_time": "2024-08-20T08:14:09.020Z"
   },
   {
    "duration": 40,
    "start_time": "2024-08-20T08:14:09.028Z"
   },
   {
    "duration": 26314,
    "start_time": "2024-08-20T08:14:09.071Z"
   },
   {
    "duration": 257,
    "start_time": "2024-08-20T08:14:35.387Z"
   },
   {
    "duration": 1186,
    "start_time": "2024-08-20T16:34:01.297Z"
   },
   {
    "duration": 28,
    "start_time": "2024-08-20T16:34:02.486Z"
   },
   {
    "duration": 5,
    "start_time": "2024-08-20T16:34:02.517Z"
   },
   {
    "duration": 9,
    "start_time": "2024-08-20T16:34:02.535Z"
   },
   {
    "duration": 10,
    "start_time": "2024-08-20T16:34:02.548Z"
   },
   {
    "duration": 17,
    "start_time": "2024-08-20T16:34:02.562Z"
   },
   {
    "duration": 261,
    "start_time": "2024-08-20T16:34:02.582Z"
   },
   {
    "duration": 30,
    "start_time": "2024-08-20T16:34:02.846Z"
   },
   {
    "duration": 6,
    "start_time": "2024-08-20T16:34:02.879Z"
   },
   {
    "duration": 7,
    "start_time": "2024-08-20T16:34:02.889Z"
   },
   {
    "duration": 26315,
    "start_time": "2024-08-20T16:34:02.899Z"
   },
   {
    "duration": 444,
    "start_time": "2024-08-20T16:34:29.216Z"
   }
  ],
  "kernelspec": {
   "display_name": "Python 3 (ipykernel)",
   "language": "python",
   "name": "python3"
  },
  "language_info": {
   "codemirror_mode": {
    "name": "ipython",
    "version": 3
   },
   "file_extension": ".py",
   "mimetype": "text/x-python",
   "name": "python",
   "nbconvert_exporter": "python",
   "pygments_lexer": "ipython3",
   "version": "3.12.4"
  },
  "toc": {
   "base_numbering": 1,
   "nav_menu": {},
   "number_sections": true,
   "sideBar": true,
   "skip_h1_title": true,
   "title_cell": "Table of Contents",
   "title_sidebar": "Contents",
   "toc_cell": false,
   "toc_position": {},
   "toc_section_display": true,
   "toc_window_display": false
  }
 },
 "nbformat": 4,
 "nbformat_minor": 2
}
